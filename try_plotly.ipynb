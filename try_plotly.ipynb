{
 "cells": [
  {
   "cell_type": "code",
   "execution_count": 7,
   "outputs": [],
   "source": [
    "HOT_SEQ_FIRST = 1\n",
    "HOT_SEQ_LAST = 7212"
   ],
   "metadata": {
    "collapsed": false,
    "pycharm": {
     "name": "#%%\n"
    }
   }
  },
  {
   "cell_type": "code",
   "execution_count": 8,
   "outputs": [],
   "source": [
    "from characterization_sequence import CharacterizationSequence\n",
    "\n",
    "def load_subset_from_real_sequence(first, last):\n",
    "    dir_path = '/Users/jgoldstone/Content/not_secret_content/arri/bur/tfe/aces/vwg_gm/balloon+2XL5' \\\n",
    "               '-C_demo_mode_test/derived/seqs/A003R3VC/A003C003_120101_cropped'\n",
    "    file_base = 'A003C003_120101_cropped'\n",
    "    frame_number_width = 4\n",
    "    c18n = CharacterizationSequence(dir_path, file_base, frame_number_width, first, last)\n",
    "    c18n.characterize_frames()\n",
    "    return c18n\n",
    "\n",
    "def load_full_subset():\n",
    "    return load_subset_from_real_sequence(HOT_SEQ_FIRST, HOT_SEQ_LAST)\n",
    "\n",
    "def load_first_hundred_as_subset():\n",
    "    return load_subset_from_real_sequence(HOT_SEQ_FIRST, 1 + HOT_SEQ_FIRST - 1)\n"
   ],
   "metadata": {
    "collapsed": false,
    "pycharm": {
     "name": "#%%\n"
    }
   }
  },
  {
   "cell_type": "code",
   "execution_count": null,
   "outputs": [],
   "source": [
    "c18n = load_first_hundred_as_subset()\n",
    "print(str(c18n))"
   ],
   "metadata": {
    "collapsed": false,
    "pycharm": {
     "name": "#%%\n",
     "is_executing": true
    }
   }
  },
  {
   "cell_type": "code",
   "execution_count": null,
   "outputs": [],
   "source": [
    "import plotly.graph_objects as go\n",
    "import plotly.io as pio\n",
    "\n",
    "pio.renderers.default = 'png'\n"
   ],
   "metadata": {
    "collapsed": false,
    "pycharm": {
     "name": "#%%\n"
    }
   }
  }
 ],
 "metadata": {
  "kernelspec": {
   "display_name": "Python 3",
   "language": "python",
   "name": "python3"
  },
  "language_info": {
   "codemirror_mode": {
    "name": "ipython",
    "version": 2
   },
   "file_extension": ".py",
   "mimetype": "text/x-python",
   "name": "python",
   "nbconvert_exporter": "python",
   "pygments_lexer": "ipython2",
   "version": "2.7.6"
  }
 },
 "nbformat": 4,
 "nbformat_minor": 0
}