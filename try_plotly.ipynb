{
 "cells": [
  {
   "cell_type": "code",
   "execution_count": 7,
   "outputs": [],
   "source": [
    "HOT_SEQ_FIRST = 1\n",
    "HOT_SEQ_LAST = 7212"
   ],
   "metadata": {
    "collapsed": false,
    "pycharm": {
     "name": "#%%\n"
    }
   }
  },
  {
   "cell_type": "code",
   "execution_count": 1,
   "outputs": [
    {
     "ename": "ModuleNotFoundError",
     "evalue": "No module named 'OpenImageIO'",
     "output_type": "error",
     "traceback": [
      "\u001B[0;31m---------------------------------------------------------------------------\u001B[0m",
      "\u001B[0;31mModuleNotFoundError\u001B[0m                       Traceback (most recent call last)",
      "\u001B[0;32m<ipython-input-1-9e1df98316bf>\u001B[0m in \u001B[0;36m<module>\u001B[0;34m\u001B[0m\n\u001B[1;32m      2\u001B[0m \u001B[0mHOT_SEQ_LAST\u001B[0m \u001B[0;34m=\u001B[0m \u001B[0;36m50\u001B[0m\u001B[0;34m\u001B[0m\u001B[0;34m\u001B[0m\u001B[0m\n\u001B[1;32m      3\u001B[0m \u001B[0;34m\u001B[0m\u001B[0m\n\u001B[0;32m----> 4\u001B[0;31m \u001B[0;32mfrom\u001B[0m \u001B[0mcharacterization_sequence\u001B[0m \u001B[0;32mimport\u001B[0m \u001B[0mCharacterizationSequence\u001B[0m\u001B[0;34m\u001B[0m\u001B[0;34m\u001B[0m\u001B[0m\n\u001B[0m\u001B[1;32m      5\u001B[0m \u001B[0;34m\u001B[0m\u001B[0m\n\u001B[1;32m      6\u001B[0m \u001B[0;32mdef\u001B[0m \u001B[0mload_subset_from_real_sequence\u001B[0m\u001B[0;34m(\u001B[0m\u001B[0mfirst\u001B[0m\u001B[0;34m,\u001B[0m \u001B[0mlast\u001B[0m\u001B[0;34m)\u001B[0m\u001B[0;34m:\u001B[0m\u001B[0;34m\u001B[0m\u001B[0;34m\u001B[0m\u001B[0m\n",
      "\u001B[0;32m~/PycharmProjects/ImageSniffer/characterization_sequence.py\u001B[0m in \u001B[0;36m<module>\u001B[0;34m\u001B[0m\n\u001B[1;32m      9\u001B[0m \u001B[0;34m\u001B[0m\u001B[0m\n\u001B[1;32m     10\u001B[0m \u001B[0;32mfrom\u001B[0m \u001B[0mpathlib\u001B[0m \u001B[0;32mimport\u001B[0m \u001B[0mPath\u001B[0m\u001B[0;34m\u001B[0m\u001B[0;34m\u001B[0m\u001B[0m\n\u001B[0;32m---> 11\u001B[0;31m \u001B[0;32mfrom\u001B[0m \u001B[0mimage_characterization\u001B[0m \u001B[0;32mimport\u001B[0m \u001B[0mImageCharacterization\u001B[0m\u001B[0;34m\u001B[0m\u001B[0;34m\u001B[0m\u001B[0m\n\u001B[0m\u001B[1;32m     12\u001B[0m \u001B[0;34m\u001B[0m\u001B[0m\n\u001B[1;32m     13\u001B[0m \u001B[0m__author__\u001B[0m \u001B[0;34m=\u001B[0m \u001B[0;34m'Joseph Goldstone'\u001B[0m\u001B[0;34m\u001B[0m\u001B[0;34m\u001B[0m\u001B[0m\n",
      "\u001B[0;32m~/PycharmProjects/ImageSniffer/image_characterization.py\u001B[0m in \u001B[0;36m<module>\u001B[0;34m\u001B[0m\n\u001B[1;32m     12\u001B[0m \u001B[0;32mimport\u001B[0m \u001B[0mnumpy\u001B[0m \u001B[0;32mas\u001B[0m \u001B[0mnp\u001B[0m\u001B[0;34m\u001B[0m\u001B[0;34m\u001B[0m\u001B[0m\n\u001B[1;32m     13\u001B[0m \u001B[0;34m\u001B[0m\u001B[0m\n\u001B[0;32m---> 14\u001B[0;31m \u001B[0;32mimport\u001B[0m \u001B[0mOpenImageIO\u001B[0m \u001B[0;32mas\u001B[0m \u001B[0moiio\u001B[0m\u001B[0;34m\u001B[0m\u001B[0;34m\u001B[0m\u001B[0m\n\u001B[0m\u001B[1;32m     15\u001B[0m \u001B[0;32mfrom\u001B[0m \u001B[0mOpenImageIO\u001B[0m \u001B[0;32mimport\u001B[0m \u001B[0mImageInput\u001B[0m\u001B[0;34m\u001B[0m\u001B[0;34m\u001B[0m\u001B[0m\n\u001B[1;32m     16\u001B[0m \u001B[0;32mfrom\u001B[0m \u001B[0msys\u001B[0m \u001B[0;32mimport\u001B[0m \u001B[0mfloat_info\u001B[0m\u001B[0;34m\u001B[0m\u001B[0;34m\u001B[0m\u001B[0m\n",
      "\u001B[0;31mModuleNotFoundError\u001B[0m: No module named 'OpenImageIO'"
     ]
    }
   ],
   "source": [
    "HOT_SEQ_FIRST = 1\n",
    "HOT_SEQ_LAST = 50\n",
    "\n",
    "from characterization_sequence import CharacterizationSequence\n",
    "\n",
    "def load_subset_from_real_sequence(first, last):\n",
    "    dir_path = '/Users/jgoldstone/Content/not_secret_content/arri/bur/tfe/aces/vwg_gm/balloon+2XL5' \\\n",
    "               '-C_demo_mode_test/derived/seqs/A003R3VC/A003C003_120101_cropped'\n",
    "    file_base = 'A003C003_120101_cropped'\n",
    "    frame_number_width = 4\n",
    "    print(f\"creating characterization sequence from {first} to{last}\")\n",
    "    c18n = CharacterizationSequence(dir_path, file_base, frame_number_width, first, last)\n",
    "    c18n.characterize_frames()\n",
    "    return c18n\n",
    "\n",
    "def load_full_subset():\n",
    "    return load_subset_from_real_sequence(HOT_SEQ_FIRST, HOT_SEQ_LAST)\n",
    "\n",
    "def load_first_hundred_as_subset():\n",
    "    print(\"subset loader\")\n",
    "    return load_subset_from_real_sequence(HOT_SEQ_FIRST, 100 + HOT_SEQ_FIRST - 1)"
   ],
   "metadata": {
    "collapsed": false,
    "pycharm": {
     "name": "#%%\n"
    }
   }
  },
  {
   "cell_type": "code",
   "execution_count": 11,
   "outputs": [
    {
     "name": "stdout",
     "output_type": "stream",
     "text": [
      "subset loader\n",
      "creating characterization sequence from 1 to100\n",
      "(True, True, True): 187\n",
      "\n",
      "(False, True, True): 10959\n",
      "\n",
      "(True, False, True): 141\n",
      "\n",
      "(False, False, True): 671739\n",
      "\n",
      "(True, True, False): 48\n",
      "\n",
      "(False, True, False): 8232\n",
      "\n",
      "(True, False, False): 311\n",
      "\n",
      "<characterization_sequence.CharacterizationSequence object at 0x108a23130>\n"
     ]
    }
   ],
   "source": [
    "c18n_first_hundred = load_first_hundred_as_subset()\n",
    "print(str(c18n_first_hundred))"
   ],
   "metadata": {
    "collapsed": false,
    "pycharm": {
     "name": "#%%\n"
    }
   }
  },
  {
   "cell_type": "code",
   "execution_count": null,
   "outputs": [],
   "source": [
    "import plotly.graph_objects as go\n",
    "import plotly.io as pio\n",
    "\n",
    "pio.renderers.default = 'png'\n"
   ],
   "metadata": {
    "collapsed": false,
    "pycharm": {
     "name": "#%%\n"
    }
   }
  }
 ],
 "metadata": {
  "kernelspec": {
   "display_name": "Python 3",
   "language": "python",
   "name": "python3"
  },
  "language_info": {
   "codemirror_mode": {
    "name": "ipython",
    "version": 2
   },
   "file_extension": ".py",
   "mimetype": "text/x-python",
   "name": "python",
   "nbconvert_exporter": "python",
   "pygments_lexer": "ipython2",
   "version": "2.7.6"
  }
 },
 "nbformat": 4,
 "nbformat_minor": 0
}